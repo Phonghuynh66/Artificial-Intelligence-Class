{
  "nbformat": 4,
  "nbformat_minor": 0,
  "metadata": {
    "colab": {
      "provenance": [],
      "authorship_tag": "ABX9TyPZn5OHhSLsQmjWr8ezn5bk",
      "include_colab_link": true
    },
    "kernelspec": {
      "name": "python3",
      "display_name": "Python 3"
    },
    "language_info": {
      "name": "python"
    },
    "accelerator": "GPU",
    "gpuClass": "standard"
  },
  "cells": [
    {
      "cell_type": "markdown",
      "metadata": {
        "id": "view-in-github",
        "colab_type": "text"
      },
      "source": [
        "<a href=\"https://colab.research.google.com/github/Phonghuynh66/Artificial-Intelligence-Class/blob/master/CNN_14_4.ipynb\" target=\"_parent\"><img src=\"https://colab.research.google.com/assets/colab-badge.svg\" alt=\"Open In Colab\"/></a>"
      ]
    },
    {
      "cell_type": "code",
      "execution_count": 1,
      "metadata": {
        "colab": {
          "base_uri": "https://localhost:8080/"
        },
        "id": "te2Vp9DdglJO",
        "outputId": "be44bca8-910a-4978-f06b-60e8e448f50e"
      },
      "outputs": [
        {
          "output_type": "stream",
          "name": "stdout",
          "text": [
            "Downloading data from https://storage.googleapis.com/tensorflow/tf-keras-datasets/train-labels-idx1-ubyte.gz\n",
            "29515/29515 [==============================] - 0s 1us/step\n",
            "Downloading data from https://storage.googleapis.com/tensorflow/tf-keras-datasets/train-images-idx3-ubyte.gz\n",
            "26421880/26421880 [==============================] - 2s 0us/step\n",
            "Downloading data from https://storage.googleapis.com/tensorflow/tf-keras-datasets/t10k-labels-idx1-ubyte.gz\n",
            "5148/5148 [==============================] - 0s 0us/step\n",
            "Downloading data from https://storage.googleapis.com/tensorflow/tf-keras-datasets/t10k-images-idx3-ubyte.gz\n",
            "4422102/4422102 [==============================] - 1s 0us/step\n",
            "Model: \"sequential\"\n",
            "_________________________________________________________________\n",
            " Layer (type)                Output Shape              Param #   \n",
            "=================================================================\n",
            " conv2d (Conv2D)             (None, 28, 28, 32)        320       \n",
            "                                                                 \n",
            " leaky_re_lu (LeakyReLU)     (None, 28, 28, 32)        0         \n",
            "                                                                 \n",
            " max_pooling2d (MaxPooling2D  (None, 14, 14, 32)       0         \n",
            " )                                                               \n",
            "                                                                 \n",
            " conv2d_1 (Conv2D)           (None, 14, 14, 64)        18496     \n",
            "                                                                 \n",
            " leaky_re_lu_1 (LeakyReLU)   (None, 14, 14, 64)        0         \n",
            "                                                                 \n",
            " max_pooling2d_1 (MaxPooling  (None, 7, 7, 64)         0         \n",
            " 2D)                                                             \n",
            "                                                                 \n",
            " conv2d_2 (Conv2D)           (None, 7, 7, 128)         73856     \n",
            "                                                                 \n",
            " leaky_re_lu_2 (LeakyReLU)   (None, 7, 7, 128)         0         \n",
            "                                                                 \n",
            " max_pooling2d_2 (MaxPooling  (None, 4, 4, 128)        0         \n",
            " 2D)                                                             \n",
            "                                                                 \n",
            " flatten (Flatten)           (None, 2048)              0         \n",
            "                                                                 \n",
            " dense (Dense)               (None, 128)               262272    \n",
            "                                                                 \n",
            " leaky_re_lu_3 (LeakyReLU)   (None, 128)               0         \n",
            "                                                                 \n",
            " dense_1 (Dense)             (None, 10)                1290      \n",
            "                                                                 \n",
            "=================================================================\n",
            "Total params: 356,234\n",
            "Trainable params: 356,234\n",
            "Non-trainable params: 0\n",
            "_________________________________________________________________\n",
            "Epoch 1/20\n",
            "938/938 [==============================] - 16s 6ms/step - loss: 0.4327 - accuracy: 0.8431\n",
            "Epoch 2/20\n",
            "938/938 [==============================] - 5s 5ms/step - loss: 0.2694 - accuracy: 0.9021\n",
            "Epoch 3/20\n",
            "938/938 [==============================] - 5s 5ms/step - loss: 0.2229 - accuracy: 0.9184\n",
            "Epoch 4/20\n",
            "938/938 [==============================] - 5s 6ms/step - loss: 0.1901 - accuracy: 0.9293\n",
            "Epoch 5/20\n",
            "938/938 [==============================] - 4s 5ms/step - loss: 0.1688 - accuracy: 0.9376\n",
            "Epoch 6/20\n",
            "938/938 [==============================] - 5s 5ms/step - loss: 0.1464 - accuracy: 0.9463\n",
            "Epoch 7/20\n",
            "938/938 [==============================] - 4s 5ms/step - loss: 0.1268 - accuracy: 0.9532\n",
            "Epoch 8/20\n",
            "938/938 [==============================] - 4s 5ms/step - loss: 0.1061 - accuracy: 0.9604\n",
            "Epoch 9/20\n",
            "938/938 [==============================] - 5s 6ms/step - loss: 0.0917 - accuracy: 0.9654\n",
            "Epoch 10/20\n",
            "938/938 [==============================] - 5s 5ms/step - loss: 0.0783 - accuracy: 0.9693\n",
            "Epoch 11/20\n",
            "938/938 [==============================] - 5s 5ms/step - loss: 0.0670 - accuracy: 0.9746\n",
            "Epoch 12/20\n",
            "938/938 [==============================] - 5s 6ms/step - loss: 0.0581 - accuracy: 0.9775\n",
            "Epoch 13/20\n",
            "938/938 [==============================] - 5s 5ms/step - loss: 0.0501 - accuracy: 0.9814\n",
            "Epoch 14/20\n",
            "938/938 [==============================] - 5s 6ms/step - loss: 0.0428 - accuracy: 0.9839\n",
            "Epoch 15/20\n",
            "938/938 [==============================] - 5s 5ms/step - loss: 0.0406 - accuracy: 0.9844\n",
            "Epoch 16/20\n",
            "938/938 [==============================] - 5s 5ms/step - loss: 0.0396 - accuracy: 0.9850\n",
            "Epoch 17/20\n",
            "938/938 [==============================] - 5s 5ms/step - loss: 0.0318 - accuracy: 0.9886\n",
            "Epoch 18/20\n",
            "938/938 [==============================] - 4s 5ms/step - loss: 0.0316 - accuracy: 0.9882\n",
            "Epoch 19/20\n",
            "938/938 [==============================] - 7s 7ms/step - loss: 0.0310 - accuracy: 0.9885\n",
            "Epoch 20/20\n",
            "938/938 [==============================] - 5s 5ms/step - loss: 0.0289 - accuracy: 0.9898\n"
          ]
        }
      ],
      "source": [
        "from keras.datasets import fashion_mnist\n",
        "import matplotlib.pyplot as plt\n",
        "(train_X, train_Y),(test_X, test_Y) = fashion_mnist.load_data()\n",
        "\n",
        "train_X = train_X.reshape(60000, 28, 28, 1)\n",
        "test_X = test_X.reshape(10000, 28, 28, 1)\n",
        "\n",
        "train_X = train_X.astype('float32') /255\n",
        "test_X = test_X.astype('float32') /255\n",
        "\n",
        "from keras.utils import to_categorical\n",
        "\n",
        "train_Y = to_categorical(train_Y)\n",
        "test_Y = to_categorical(test_Y)\n",
        "\n",
        "from keras.models import Sequential, Model\n",
        "from keras.layers import Dense, Dropout, Flatten, Conv2D, MaxPooling2D, Normalization, LeakyReLU\n",
        "from keras.optimizers import Adam\n",
        "from keras import losses\n",
        "batch_size = 64\n",
        "epochs = 20\n",
        "classes = 10\n",
        "loss = losses\n",
        "\n",
        "model = Sequential()\n",
        "#VGG_1\n",
        "model.add(Conv2D(32, kernel_size = (3, 3), activation = 'linear', input_shape = (28, 28, 1), padding = 'same'))    #  32 la so lan tich chap, kernel_size la kich thuoc filter\n",
        "model.add(LeakyReLU(alpha = 0.1))                                                                                                                       \n",
        "model.add(MaxPooling2D((2, 2), padding = 'same'))                    \n",
        "#VGG_2\n",
        "model.add(Conv2D(64, (3, 3), activation = 'linear', padding = 'same'))      #input_shape da duoc tinh o VGG_1 va chuyen vao \n",
        "model.add(LeakyReLU(alpha = 0.1))\n",
        "model.add(MaxPooling2D((2,2), padding = 'same'))\n",
        "#VGG_3\n",
        "model.add(Conv2D(128, (3, 3), activation = 'linear', padding = 'same'))\n",
        "model.add(LeakyReLU(alpha = 0.1))\n",
        "model.add(MaxPooling2D((2,2), padding = 'same'))\n",
        "\n",
        "# Bo ANN phan loai\n",
        "model.add(Flatten())  # Chuyen anh sang dang vector\n",
        "model.add(Dense(128, activation='linear'))\n",
        "model.add(LeakyReLU(alpha=0.1))\n",
        "model.add(Dense(classes, activation='softmax')) #classes = 10\n",
        "\n",
        "from keras import optimizers\n",
        "model.compile(loss = loss.categorical_crossentropy, optimizer = \"adam\", metrics = ['accuracy']) \n",
        "model.summary()\n",
        "\n",
        "\n",
        "\n",
        "\n",
        "\n"
      ]
    },
    {
      "cell_type": "code",
      "source": [
        "model.save('path/to/saved/model.h5') \n",
        "from keras.models import load_model\n",
        "model = load_model('path/to/saved/model.h5')\n",
        "eval = model.evaluate(test_X, test_Y, verbose = 0)  #verbose = 0: khong hien thi train\n",
        "print('Test loss: ', eval[0])\n",
        "print('Test accuracy: ', eval[1])\n",
        "accuracy = train.history['accuracy']\n",
        "loss = train.history['loss']\n",
        "epochs = range(len(accuracy))\n",
        "plt.plot(epochs, accuracy, 'bo', label = 'Training Accuracy')   # 'bo' la dau tron\n",
        "plt.plot(epochs, loss, 'b', label = 'Test Accuracy')\n",
        "plt.title('Training & Testing Accuracy')\n",
        "plt.legend()\n",
        "plt.show()\n"
      ],
      "metadata": {
        "colab": {
          "base_uri": "https://localhost:8080/",
          "height": 487
        },
        "id": "2dUUVXpykM_S",
        "outputId": "83b887e9-2bf3-4442-99e6-f504bd46e6ad"
      },
      "execution_count": 10,
      "outputs": [
        {
          "output_type": "stream",
          "name": "stdout",
          "text": [
            "Test loss:  0.4951933026313782\n",
            "Test accuracy:  0.9186999797821045\n"
          ]
        },
        {
          "output_type": "display_data",
          "data": {
            "text/plain": [
              "<Figure size 640x480 with 1 Axes>"
            ],
            "image/png": "[encoded data removed]"
          },
          "metadata": {}
        }
      ]
    },
    {
      "cell_type": "code",
      "source": [],
      "metadata": {
        "id": "JuZyPCn15MQq"
      },
      "execution_count": null,
      "outputs": []
    }
  ]
}