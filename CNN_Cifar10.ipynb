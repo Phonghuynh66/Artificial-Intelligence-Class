{
  "cells": [
    {
      "cell_type": "markdown",
      "metadata": {
        "id": "view-in-github",
        "colab_type": "text"
      },
      "source": [
        "<a href=\"https://colab.research.google.com/github/Phonghuynh66/Artificial-Intelligence-Class/blob/master/CNN_Cifar10.ipynb\" target=\"_parent\"><img src=\"https://colab.research.google.com/assets/colab-badge.svg\" alt=\"Open In Colab\"/></a>"
      ]
    },
    {
      "cell_type": "code",
      "execution_count": 1,
      "metadata": {
        "colab": {
          "base_uri": "https://localhost:8080/"
        },
        "id": "h5fd0-jl5ylq",
        "outputId": "5ace5183-4291-4363-cd46-3eb41101b95c"
      },
      "outputs": [
        {
          "output_type": "stream",
          "name": "stdout",
          "text": [
            "Downloading data from https://www.cs.toronto.edu/~kriz/cifar-10-python.tar.gz\n",
            "170498071/170498071 [==============================] - 5s 0us/step\n",
            "Model: \"sequential\"\n",
            "_________________________________________________________________\n",
            " Layer (type)                Output Shape              Param #   \n",
            "=================================================================\n",
            " conv2d (Conv2D)             (None, 32, 32, 32)        896       \n",
            "                                                                 \n",
            " activation (Activation)     (None, 32, 32, 32)        0         \n",
            "                                                                 \n",
            " conv2d_1 (Conv2D)           (None, 30, 30, 32)        9248      \n",
            "                                                                 \n",
            " activation_1 (Activation)   (None, 30, 30, 32)        0         \n",
            "                                                                 \n",
            " max_pooling2d (MaxPooling2D  (None, 15, 15, 32)       0         \n",
            " )                                                               \n",
            "                                                                 \n",
            " dropout (Dropout)           (None, 15, 15, 32)        0         \n",
            "                                                                 \n",
            " conv2d_2 (Conv2D)           (None, 15, 15, 64)        18496     \n",
            "                                                                 \n",
            " activation_2 (Activation)   (None, 15, 15, 64)        0         \n",
            "                                                                 \n",
            " conv2d_3 (Conv2D)           (None, 13, 13, 64)        36928     \n",
            "                                                                 \n",
            " activation_3 (Activation)   (None, 13, 13, 64)        0         \n",
            "                                                                 \n",
            " max_pooling2d_1 (MaxPooling  (None, 6, 6, 64)         0         \n",
            " 2D)                                                             \n",
            "                                                                 \n",
            " dropout_1 (Dropout)         (None, 6, 6, 64)          0         \n",
            "                                                                 \n",
            " flatten (Flatten)           (None, 2304)              0         \n",
            "                                                                 \n",
            " dense (Dense)               (None, 512)               1180160   \n",
            "                                                                 \n",
            " dense_1 (Dense)             (None, 10)                5130      \n",
            "                                                                 \n",
            " dropout_2 (Dropout)         (None, 10)                0         \n",
            "                                                                 \n",
            "=================================================================\n",
            "Total params: 1,250,858\n",
            "Trainable params: 1,250,858\n",
            "Non-trainable params: 0\n",
            "_________________________________________________________________\n",
            "Epoch 1/20\n",
            "782/782 [==============================] - 16s 8ms/step - loss: nan - accuracy: 0.1034\n",
            "Epoch 2/20\n",
            "782/782 [==============================] - 5s 7ms/step - loss: nan - accuracy: 0.1006\n",
            "Epoch 3/20\n",
            "782/782 [==============================] - 6s 7ms/step - loss: nan - accuracy: 0.0986\n",
            "Epoch 4/20\n",
            "782/782 [==============================] - 5s 7ms/step - loss: nan - accuracy: 0.0992\n",
            "Epoch 5/20\n",
            "782/782 [==============================] - 6s 8ms/step - loss: nan - accuracy: 0.1000\n",
            "Epoch 6/20\n",
            "782/782 [==============================] - 5s 7ms/step - loss: nan - accuracy: 0.1026\n",
            "Epoch 7/20\n",
            "782/782 [==============================] - 6s 7ms/step - loss: nan - accuracy: 0.1016\n",
            "Epoch 8/20\n",
            "782/782 [==============================] - 5s 7ms/step - loss: nan - accuracy: 0.1020\n",
            "Epoch 9/20\n",
            "782/782 [==============================] - 5s 7ms/step - loss: nan - accuracy: 0.0984\n",
            "Epoch 10/20\n",
            "782/782 [==============================] - 6s 7ms/step - loss: nan - accuracy: 0.1014\n",
            "Epoch 11/20\n",
            "782/782 [==============================] - 5s 7ms/step - loss: nan - accuracy: 0.0991\n",
            "Epoch 12/20\n",
            "782/782 [==============================] - 6s 7ms/step - loss: nan - accuracy: 0.1006\n",
            "Epoch 13/20\n",
            "782/782 [==============================] - 5s 7ms/step - loss: nan - accuracy: 0.1019\n",
            "Epoch 14/20\n",
            "782/782 [==============================] - 6s 7ms/step - loss: nan - accuracy: 0.1006\n",
            "Epoch 15/20\n",
            "782/782 [==============================] - 6s 7ms/step - loss: nan - accuracy: 0.1001\n",
            "Epoch 16/20\n",
            "782/782 [==============================] - 6s 8ms/step - loss: nan - accuracy: 0.1001\n",
            "Epoch 17/20\n",
            "782/782 [==============================] - 5s 7ms/step - loss: nan - accuracy: 0.0958\n",
            "Epoch 18/20\n",
            "782/782 [==============================] - 6s 7ms/step - loss: nan - accuracy: 0.1028\n",
            "Epoch 19/20\n",
            "782/782 [==============================] - 6s 7ms/step - loss: nan - accuracy: 0.0998\n",
            "Epoch 20/20\n",
            "782/782 [==============================] - 5s 7ms/step - loss: nan - accuracy: 0.0999\n"
          ]
        }
      ],
      "source": [
        "from keras.datasets import fashion_mnist\n",
        "import matplotlib.pyplot as plt\n",
        "from keras.datasets import cifar10\n",
        "(train_X, train_Y), (test_X, test_Y) = cifar10.load_data()\n",
        "\n",
        "train_X = train_X.astype('float32') /255\n",
        "test_X = test_X.astype('float32') /255\n",
        "\n",
        "from keras.utils import to_categorical\n",
        "\n",
        "train_Y = to_categorical(train_Y)\n",
        "test_Y = to_categorical(test_Y)\n",
        "\n",
        "from keras.models import Sequential, Model\n",
        "from keras.layers import Dense, Dropout, Flatten, Conv2D, MaxPooling2D, Normalization, LeakyReLU\n",
        "from keras.layers import Activation\n",
        "from keras.optimizers import Adam\n",
        "from keras import losses\n",
        "batch_size = 64\n",
        "epochs = 20\n",
        "classes = 10\n",
        "loss = losses\n",
        "\n",
        "\n",
        "model = Sequential()\n",
        "model.add(Conv2D(32, kernel_size = (3, 3), input_shape = (32, 32, 3), padding = 'same'))\n",
        "model.add(Activation('relu'))\n",
        "model.add(Conv2D(32,(3,3)))\n",
        "model.add(Activation('relu'))\n",
        "model.add(MaxPooling2D((2,2)))\n",
        "model.add(Dropout(0.25))\n",
        "\n",
        "model.add(Conv2D(64,(3,3),padding='same'))\n",
        "model.add(Activation('relu'))\n",
        "model.add(Conv2D(64,(3,3)))\n",
        "model.add(Activation('relu'))\n",
        "model.add(MaxPooling2D((2,2)))\n",
        "model.add(Dropout(0.25))\n",
        "\n",
        "model.add(Flatten())\n",
        "model.add(Dense(512,activation='relu'))\n",
        "model.add(Dense(classes,activation='softmax'))\n",
        "model.add(Dropout(0.5))\n",
        "\n",
        "from keras.optimizers import SGD\n",
        "sgd = SGD(learning_rate = 0.1, decay = 1e-6, momentum= 0.9, nesterov = True )\n",
        "model.compile(loss = 'categorical_crossentropy', optimizer = sgd, metrics = ['accuracy'])\n",
        "model.summary()\n",
        "\n",
        "train = model.fit(train_X, train_Y, batch_size = batch_size, epochs = epochs, verbose = 1)"
      ]
    },
    {
      "cell_type": "code",
      "execution_count": 2,
      "metadata": {
        "id": "x6TIhOoG7JAA",
        "colab": {
          "base_uri": "https://localhost:8080/",
          "height": 487
        },
        "outputId": "ec392008-0d0d-4d45-8097-e6dca2efd27d"
      },
      "outputs": [
        {
          "output_type": "stream",
          "name": "stdout",
          "text": [
            "Test loss:  2.3039183616638184\n",
            "Test accuracy:  0.10000000149011612\n"
          ]
        },
        {
          "output_type": "display_data",
          "data": {
            "text/plain": [
              "<Figure size 640x480 with 1 Axes>"
            ],
            "image/png": "[encoded data removed]"
          },
          "metadata": {}
        }
      ],
      "source": [
        "eval = model.evaluate(test_X, test_Y, verbose = 0)  \n",
        "print('Test loss: ', eval[0])\n",
        "print('Test accuracy: ', eval[1])\n",
        "accuracy = train.history['accuracy']\n",
        "loss = train.history['loss']\n",
        "epochs = range(len(accuracy))\n",
        "plt.plot(epochs, accuracy, 'bo', label = 'Training Accuracy')  \n",
        "plt.plot(epochs, loss, 'b', label = 'Test Accuracy')\n",
        "plt.title('Training & Testing Accuracy')\n",
        "plt.legend()\n",
        "plt.show()"
      ]
    },
    {
      "cell_type": "code",
      "source": [],
      "metadata": {
        "id": "j7N2_rwC8wg7"
      },
      "execution_count": null,
      "outputs": []
    }
  ],
  "metadata": {
    "accelerator": "GPU",
    "colab": {
      "provenance": [],
      "authorship_tag": "ABX9TyPG6Hquh3ZVZzKzpNy5YpuM",
      "include_colab_link": true
    },
    "gpuClass": "standard",
    "kernelspec": {
      "display_name": "Python 3",
      "name": "python3"
    },
    "language_info": {
      "name": "python"
    }
  },
  "nbformat": 4,
  "nbformat_minor": 0
}