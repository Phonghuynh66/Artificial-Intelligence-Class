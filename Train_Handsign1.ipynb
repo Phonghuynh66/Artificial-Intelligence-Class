{
  "nbformat": 4,
  "nbformat_minor": 0,
  "metadata": {
    "colab": {
      "provenance": [],
      "gpuType": "T4",
      "mount_file_id": "https://github.com/Phonghuynh66/Artificial-Intelligence-Class/blob/master/Train_Handsign.ipynb",
      "authorship_tag": "ABX9TyObcn+Vv6Emxc/D5qKaGJY1",
      "include_colab_link": true
    },
    "kernelspec": {
      "name": "python3",
      "display_name": "Python 3"
    },
    "language_info": {
      "name": "python"
    },
    "accelerator": "GPU",
    "gpuClass": "standard"
  },
  "cells": [
    {
      "cell_type": "markdown",
      "metadata": {
        "id": "view-in-github",
        "colab_type": "text"
      },
      "source": [
        "<a href=\"https://colab.research.google.com/github/Phonghuynh66/Artificial-Intelligence-Class/blob/master/Train_Handsign1.ipynb\" target=\"_parent\"><img src=\"https://colab.research.google.com/assets/colab-badge.svg\" alt=\"Open In Colab\"/></a>"
      ]
    },
    {
      "cell_type": "code",
      "execution_count": null,
      "metadata": {
        "id": "GtBMt1zacdT1"
      },
      "outputs": [],
      "source": [
        "# Huynh Quoc Phong 20149078\n"
      ]
    },
    {
      "cell_type": "code",
      "source": [
        "import os\n",
        "import warnings\n",
        "import cv2\n",
        "import keras\n",
        "import matplotlib.pyplot as plt\n",
        "import matplotlib.style as style\n",
        "import numpy as np\n",
        "import pandas as pd\n",
        "from os import listdir\n",
        "from numpy import asarray, save\n",
        "from keras.utils import load_img, img_to_array\n",
        "from keras import preprocessing\n",
        "from sklearn.model_selection import train_test_split\n",
        "from sklearn.preprocessing import LabelBinarizer\n",
        "from PIL import Image\n",
        "from keras import models, layers, optimizers\n",
        "from keras.callbacks import EarlyStopping, ModelCheckpoint\n",
        "from keras.layers import Dense, Dropout, Flatten\n",
        "from keras.models import Model\n",
        "from keras.preprocessing import image as image_utils\n",
        "from keras.preprocessing.image import ImageDataGenerator\n",
        "from keras.utils import to_categorical\n",
        "from sklearn.metrics import classification_report, confusion_matrix\n",
        "from sklearn.model_selection import train_test_split\n",
        "from PIL import ImageFile\n",
        "ImageFile.LOAD_TRUNCATED_IMAGES = True\n"
      ],
      "metadata": {
        "id": "v96I_Nbde3VJ"
      },
      "execution_count": null,
      "outputs": []
    },
    {
      "cell_type": "code",
      "source": [
        "folder='/content/drive/MyDrive/Data_HandSign'\n",
        "photos,labels=list(),list()\n",
        "\n",
        "for file in listdir(folder):\n",
        "   if file.endswith('.jpg'):\n",
        "     output=0\n",
        "     if file.startswith('Hi'):\n",
        "       output=1\n",
        "     if file.startswith('Note'):\n",
        "       output=2\n",
        "     if file.startswith('Ok'):\n",
        "       output=3\n",
        "     if file.startswith('Stop'):\n",
        "       output=4\n",
        "     if file.startswith('Warning'):\n",
        "       output=5\n",
        "     photo=load_img(folder+'/'+file,target_size=(224,224))\n",
        "     photo=img_to_array(photo)\n",
        "     photos.append(photo)\n",
        "     labels.append(output)\n",
        "\n",
        "photos=asarray(photos)\n",
        "labels=asarray(labels)\n",
        "\n",
        "print(photos.shape,labels.shape)\n",
        "\n",
        "save('flowers_photos.npy',photos)\n",
        "save('flowers_labels.npy',labels)"
      ],
      "metadata": {
        "colab": {
          "base_uri": "https://localhost:8080/"
        },
        "id": "DX8IgpBKNdJQ",
        "outputId": "f4be9f43-8f8e-467b-8cce-238030bbfa16"
      },
      "execution_count": null,
      "outputs": [
        {
          "output_type": "stream",
          "name": "stdout",
          "text": [
            "(2744, 224, 224, 3) (2744,)\n"
          ]
        }
      ]
    },
    {
      "cell_type": "code",
      "source": [
        "# Xu ly du lieu dau vao\n",
        "def process_data(X_data, y_data):\n",
        "    X_data = np.array(X_data, dtype = 'float32')\n",
        "    if rgb:\n",
        "        pass\n",
        "    else:\n",
        "        X_data = np.stack((X_data,)*3, axis=-1)\n",
        "    X_data /= 255\n",
        "    y_data = np.array(y_data)\n",
        "    y_data = to_categorical(y_data)\n",
        "    return X_data, y_data"
      ],
      "metadata": {
        "id": "omrSlq9JR0BQ"
      },
      "execution_count": null,
      "outputs": []
    },
    {
      "cell_type": "code",
      "source": [
        "\n",
        "import pickle\n",
        "lb=LabelBinarizer()\n",
        "labels=lb.fit_transform(labels)\n",
        "file=open('pix.data','wb')\n",
        "pickle.dump((photos,labels),file)\n",
        "file.close()\n",
        "\n",
        "def load_data():\n",
        "    file=open('pix.data','rb')\n",
        "    (photos, labels)=pickle.load(file)\n",
        "    file.close()\n",
        "    return photos, labels\n",
        "\n",
        "X,y=load_data()\n",
        "X_train,X_test,y_train,y_test=train_test_split(X,y,test_size=0.2,random_state=100)\n",
        "\n",
        "print('X_train:',X_train.shape)\n",
        "print('X_test:',X_test.shape)\n",
        "print('y_train:',y_train.shape)\n",
        "print('y_test:',y_test.shape)"
      ],
      "metadata": {
        "colab": {
          "base_uri": "https://localhost:8080/"
        },
        "id": "4QtuTVkwSjfL",
        "outputId": "baf0128d-dc68-4340-ae9f-f974a8930646"
      },
      "execution_count": null,
      "outputs": [
        {
          "output_type": "stream",
          "name": "stdout",
          "text": [
            "X_train: (2195, 224, 224, 3)\n",
            "X_test: (549, 224, 224, 3)\n",
            "y_train: (2195, 5)\n",
            "y_test: (549, 5)\n"
          ]
        }
      ]
    },
    {
      "cell_type": "code",
      "source": [
        "from keras.models import Sequential,Model\n",
        "from keras.layers import Dense,Flatten,Conv2D,MaxPooling2D,LeakyReLU,Activation\n",
        "from keras.optimizers import Adam\n",
        "from keras.losses import categorical_crossentropy\n",
        "from keras import losses\n",
        "   \n",
        "classes=5\n",
        "\n",
        "X_train=X_train.astype('float32')/255\n",
        "X_test=X_test.astype('float32')/255\n",
        "\n",
        "model=Sequential()\n",
        "model.add(Conv2D(32,kernel_size=(3,3),activation='linear',input_shape=(224,224,3),padding='same'))\n",
        "model.add(LeakyReLU(alpha=0.1))\n",
        "model.add(MaxPooling2D((2,2),padding='same'))\n",
        "\n",
        "model.add(Conv2D(64,kernel_size=(3,3),activation='linear',padding='same'))\n",
        "model.add(LeakyReLU(alpha=0.1))\n",
        "model.add(MaxPooling2D((2,2),padding='same'))\n",
        "\n",
        "model.add(Conv2D(128,kernel_size=(3,3),activation='linear',padding='same'))\n",
        "model.add(LeakyReLU(alpha=0.1))\n",
        "model.add(MaxPooling2D((2,2),padding='same'))\n",
        "\n",
        "model.add(Flatten())\n",
        "model.add(Dense(128,activation='linear'))\n",
        "model.add(LeakyReLU(alpha=0.1))\n",
        "model.add(Dense(classes,activation='softmax'))\n",
        "model.summary()"
      ],
      "metadata": {
        "colab": {
          "base_uri": "https://localhost:8080/"
        },
        "id": "VwaanQSVTAk3",
        "outputId": "1dd4441e-0aba-40a0-fcc8-122c43378af1"
      },
      "execution_count": null,
      "outputs": [
        {
          "output_type": "stream",
          "name": "stdout",
          "text": [
            "Model: \"sequential\"\n",
            "_________________________________________________________________\n",
            " Layer (type)                Output Shape              Param #   \n",
            "=================================================================\n",
            " conv2d (Conv2D)             (None, 224, 224, 32)      896       \n",
            "                                                                 \n",
            " leaky_re_lu (LeakyReLU)     (None, 224, 224, 32)      0         \n",
            "                                                                 \n",
            " max_pooling2d (MaxPooling2D  (None, 112, 112, 32)     0         \n",
            " )                                                               \n",
            "                                                                 \n",
            " conv2d_1 (Conv2D)           (None, 112, 112, 64)      18496     \n",
            "                                                                 \n",
            " leaky_re_lu_1 (LeakyReLU)   (None, 112, 112, 64)      0         \n",
            "                                                                 \n",
            " max_pooling2d_1 (MaxPooling  (None, 56, 56, 64)       0         \n",
            " 2D)                                                             \n",
            "                                                                 \n",
            " conv2d_2 (Conv2D)           (None, 56, 56, 128)       73856     \n",
            "                                                                 \n",
            " leaky_re_lu_2 (LeakyReLU)   (None, 56, 56, 128)       0         \n",
            "                                                                 \n",
            " max_pooling2d_2 (MaxPooling  (None, 28, 28, 128)      0         \n",
            " 2D)                                                             \n",
            "                                                                 \n",
            " flatten (Flatten)           (None, 100352)            0         \n",
            "                                                                 \n",
            " dense (Dense)               (None, 128)               12845184  \n",
            "                                                                 \n",
            " leaky_re_lu_3 (LeakyReLU)   (None, 128)               0         \n",
            "                                                                 \n",
            " dense_1 (Dense)             (None, 5)                 645       \n",
            "                                                                 \n",
            "=================================================================\n",
            "Total params: 12,939,077\n",
            "Trainable params: 12,939,077\n",
            "Non-trainable params: 0\n",
            "_________________________________________________________________\n"
          ]
        }
      ]
    },
    {
      "cell_type": "code",
      "source": [
        "# Training\n",
        "batch_size=64\n",
        "epochs=50   \n",
        "\n",
        "model.compile(loss=losses.categorical_crossentropy,optimizer=Adam(),metrics=['accuracy'])\n",
        "train=model.fit(X_train,y_train,batch_size=batch_size,epochs=epochs,verbose=1)"
      ],
      "metadata": {
        "colab": {
          "base_uri": "https://localhost:8080/"
        },
        "id": "LCvxw2FQW5xC",
        "outputId": "4c24bc09-74f1-4a8e-f740-73678c9abc10"
      },
      "execution_count": null,
      "outputs": [
        {
          "output_type": "stream",
          "name": "stdout",
          "text": [
            "Epoch 1/50\n",
            "35/35 [==============================] - 16s 128ms/step - loss: 0.9760 - accuracy: 0.6560\n",
            "Epoch 2/50\n",
            "35/35 [==============================] - 4s 109ms/step - loss: 0.2169 - accuracy: 0.9285\n",
            "Epoch 3/50\n",
            "35/35 [==============================] - 4s 104ms/step - loss: 0.0813 - accuracy: 0.9749\n",
            "Epoch 4/50\n",
            "35/35 [==============================] - 4s 105ms/step - loss: 0.0124 - accuracy: 0.9973\n",
            "Epoch 5/50\n",
            "35/35 [==============================] - 4s 113ms/step - loss: 0.0024 - accuracy: 1.0000\n",
            "Epoch 6/50\n",
            "35/35 [==============================] - 4s 105ms/step - loss: 7.2124e-04 - accuracy: 1.0000\n",
            "Epoch 7/50\n",
            "35/35 [==============================] - 4s 105ms/step - loss: 3.0136e-04 - accuracy: 1.0000\n",
            "Epoch 8/50\n",
            "35/35 [==============================] - 4s 106ms/step - loss: 2.0258e-04 - accuracy: 1.0000\n",
            "Epoch 9/50\n",
            "35/35 [==============================] - 4s 113ms/step - loss: 1.5906e-04 - accuracy: 1.0000\n",
            "Epoch 10/50\n",
            "35/35 [==============================] - 4s 105ms/step - loss: 1.2892e-04 - accuracy: 1.0000\n",
            "Epoch 11/50\n",
            "35/35 [==============================] - 4s 105ms/step - loss: 1.0717e-04 - accuracy: 1.0000\n",
            "Epoch 12/50\n",
            "35/35 [==============================] - 4s 112ms/step - loss: 9.0552e-05 - accuracy: 1.0000\n",
            "Epoch 13/50\n",
            "35/35 [==============================] - 4s 110ms/step - loss: 7.7409e-05 - accuracy: 1.0000\n",
            "Epoch 14/50\n",
            "35/35 [==============================] - 4s 106ms/step - loss: 6.7058e-05 - accuracy: 1.0000\n",
            "Epoch 15/50\n",
            "35/35 [==============================] - 4s 110ms/step - loss: 5.8694e-05 - accuracy: 1.0000\n",
            "Epoch 16/50\n",
            "35/35 [==============================] - 4s 120ms/step - loss: 5.1772e-05 - accuracy: 1.0000\n",
            "Epoch 17/50\n",
            "35/35 [==============================] - 4s 107ms/step - loss: 4.5988e-05 - accuracy: 1.0000\n",
            "Epoch 18/50\n",
            "35/35 [==============================] - 4s 107ms/step - loss: 4.1141e-05 - accuracy: 1.0000\n",
            "Epoch 19/50\n",
            "35/35 [==============================] - 4s 115ms/step - loss: 3.6971e-05 - accuracy: 1.0000\n",
            "Epoch 20/50\n",
            "35/35 [==============================] - 4s 111ms/step - loss: 3.3332e-05 - accuracy: 1.0000\n",
            "Epoch 21/50\n",
            "35/35 [==============================] - 4s 109ms/step - loss: 3.0382e-05 - accuracy: 1.0000\n",
            "Epoch 22/50\n",
            "35/35 [==============================] - 4s 109ms/step - loss: 2.7784e-05 - accuracy: 1.0000\n",
            "Epoch 23/50\n",
            "35/35 [==============================] - 4s 115ms/step - loss: 2.5535e-05 - accuracy: 1.0000\n",
            "Epoch 24/50\n",
            "35/35 [==============================] - 4s 109ms/step - loss: 2.3543e-05 - accuracy: 1.0000\n",
            "Epoch 25/50\n",
            "35/35 [==============================] - 4s 109ms/step - loss: 2.1726e-05 - accuracy: 1.0000\n",
            "Epoch 26/50\n",
            "35/35 [==============================] - 4s 115ms/step - loss: 2.0166e-05 - accuracy: 1.0000\n",
            "Epoch 27/50\n",
            "35/35 [==============================] - 4s 110ms/step - loss: 1.8740e-05 - accuracy: 1.0000\n",
            "Epoch 28/50\n",
            "35/35 [==============================] - 4s 108ms/step - loss: 1.7474e-05 - accuracy: 1.0000\n",
            "Epoch 29/50\n",
            "35/35 [==============================] - 4s 109ms/step - loss: 1.6195e-05 - accuracy: 1.0000\n",
            "Epoch 30/50\n",
            "35/35 [==============================] - 4s 114ms/step - loss: 1.5164e-05 - accuracy: 1.0000\n",
            "Epoch 31/50\n",
            "35/35 [==============================] - 4s 107ms/step - loss: 1.4200e-05 - accuracy: 1.0000\n",
            "Epoch 32/50\n",
            "35/35 [==============================] - 4s 107ms/step - loss: 1.3333e-05 - accuracy: 1.0000\n",
            "Epoch 33/50\n",
            "35/35 [==============================] - 4s 116ms/step - loss: 1.2549e-05 - accuracy: 1.0000\n",
            "Epoch 34/50\n",
            "35/35 [==============================] - 4s 109ms/step - loss: 1.1802e-05 - accuracy: 1.0000\n",
            "Epoch 35/50\n",
            "35/35 [==============================] - 4s 107ms/step - loss: 1.1146e-05 - accuracy: 1.0000\n",
            "Epoch 36/50\n",
            "35/35 [==============================] - 4s 108ms/step - loss: 1.0524e-05 - accuracy: 1.0000\n",
            "Epoch 37/50\n",
            "35/35 [==============================] - 4s 114ms/step - loss: 9.9402e-06 - accuracy: 1.0000\n",
            "Epoch 38/50\n",
            "35/35 [==============================] - 4s 107ms/step - loss: 9.4099e-06 - accuracy: 1.0000\n",
            "Epoch 39/50\n",
            "35/35 [==============================] - 4s 107ms/step - loss: 8.9320e-06 - accuracy: 1.0000\n",
            "Epoch 40/50\n",
            "35/35 [==============================] - 4s 114ms/step - loss: 8.4940e-06 - accuracy: 1.0000\n",
            "Epoch 41/50\n",
            "35/35 [==============================] - 4s 109ms/step - loss: 8.0841e-06 - accuracy: 1.0000\n",
            "Epoch 42/50\n",
            "35/35 [==============================] - 4s 108ms/step - loss: 7.6939e-06 - accuracy: 1.0000\n",
            "Epoch 43/50\n",
            "35/35 [==============================] - 4s 108ms/step - loss: 7.3452e-06 - accuracy: 1.0000\n",
            "Epoch 44/50\n",
            "35/35 [==============================] - 4s 116ms/step - loss: 6.9970e-06 - accuracy: 1.0000\n",
            "Epoch 45/50\n",
            "35/35 [==============================] - 4s 109ms/step - loss: 6.6813e-06 - accuracy: 1.0000\n",
            "Epoch 46/50\n",
            "35/35 [==============================] - 4s 108ms/step - loss: 6.4019e-06 - accuracy: 1.0000\n",
            "Epoch 47/50\n",
            "35/35 [==============================] - 4s 117ms/step - loss: 6.1063e-06 - accuracy: 1.0000\n",
            "Epoch 48/50\n",
            "35/35 [==============================] - 4s 111ms/step - loss: 5.8469e-06 - accuracy: 1.0000\n",
            "Epoch 49/50\n",
            "35/35 [==============================] - 4s 108ms/step - loss: 5.6067e-06 - accuracy: 1.0000\n",
            "Epoch 50/50\n",
            "35/35 [==============================] - 4s 109ms/step - loss: 5.3619e-06 - accuracy: 1.0000\n"
          ]
        }
      ]
    },
    {
      "cell_type": "code",
      "source": [
        "model.save(\"/content/drive/MyDrive/dataHandLang/handmodel.h5\")\n"
      ],
      "metadata": {
        "id": "CiO2-YN5XXTd"
      },
      "execution_count": null,
      "outputs": []
    }
  ]
}